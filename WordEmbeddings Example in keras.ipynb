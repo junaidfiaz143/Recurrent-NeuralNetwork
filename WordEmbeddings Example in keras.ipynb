{
 "cells": [
  {
   "cell_type": "markdown",
   "metadata": {},
   "source": [
    "https://machinelearningmastery.com/use-word-embedding-layers-deep-learning-keras/"
   ]
  },
  {
   "cell_type": "code",
   "execution_count": 14,
   "metadata": {},
   "outputs": [],
   "source": [
    "from numpy import array\n",
    "from keras.preprocessing.text import one_hot\n",
    "from keras.preprocessing.sequence import pad_sequences\n",
    "from keras.models import Sequential\n",
    "from keras.layers import Dense\n",
    "from keras.layers import Flatten\n",
    "from keras.layers.embeddings import Embedding"
   ]
  },
  {
   "cell_type": "code",
   "execution_count": 15,
   "metadata": {},
   "outputs": [],
   "source": [
    "docs = ['Well done!',\n",
    "        'Good work',\n",
    "        'Great effort',\n",
    "        'nice work',\n",
    "        'Excellent!',\n",
    "        'Weak',\n",
    "        'Poor effort!',\n",
    "        'not good',\n",
    "        'poor work',\n",
    "        'Could have done better.']\n",
    "# define class labels\n",
    "labels = array([1,1,1,1,1,0,0,0,0,0])"
   ]
  },
  {
   "cell_type": "code",
   "execution_count": 34,
   "metadata": {},
   "outputs": [
    {
     "name": "stdout",
     "output_type": "stream",
     "text": [
      "[[10, 8], [42, 7], [41, 15], [27, 7], [24], [3], [25, 15], [9, 42], [25, 7], [5, 36, 8, 23]]\n"
     ]
    }
   ],
   "source": [
    "vocab_size = 50 #maximum words in all data.\n",
    "max_length = 4 #maximum words in each sentence.\n",
    "\n",
    "# integer encode the documents\n",
    "encoded_docs = [one_hot(d, vocab_size) for d in docs]\n",
    "print(encoded_docs)"
   ]
  },
  {
   "cell_type": "code",
   "execution_count": 17,
   "metadata": {},
   "outputs": [
    {
     "name": "stdout",
     "output_type": "stream",
     "text": [
      "[[10  8  0  0]\n",
      " [42  7  0  0]\n",
      " [41 15  0  0]\n",
      " [27  7  0  0]\n",
      " [24  0  0  0]\n",
      " [ 3  0  0  0]\n",
      " [25 15  0  0]\n",
      " [ 9 42  0  0]\n",
      " [25  7  0  0]\n",
      " [ 5 36  8 23]]\n"
     ]
    }
   ],
   "source": [
    "# pad documents to a max length of 4 words\n",
    "max_length = 4\n",
    "padded_docs = pad_sequences(encoded_docs, maxlen=max_length, padding='post')\n",
    "print(padded_docs)"
   ]
  },
  {
   "cell_type": "code",
   "execution_count": 24,
   "metadata": {},
   "outputs": [],
   "source": [
    "#define model\n",
    "model = Sequential()\n",
    "model.add(Embedding(vocab_size, 8, input_length = max_length))\n",
    "model.add(Flatten())\n",
    "model.add(Dense(1, activation='sigmoid'))"
   ]
  },
  {
   "cell_type": "code",
   "execution_count": 36,
   "metadata": {
    "collapsed": true
   },
   "outputs": [],
   "source": [
    "#compile model\n",
    "model.compile(optimizer = 'adagrad', loss='binary_crossentropy', metrics=['acc'])"
   ]
  },
  {
   "cell_type": "code",
   "execution_count": 37,
   "metadata": {},
   "outputs": [
    {
     "name": "stdout",
     "output_type": "stream",
     "text": [
      "_________________________________________________________________\n",
      "Layer (type)                 Output Shape              Param #   \n",
      "=================================================================\n",
      "embedding_3 (Embedding)      (None, 4, 8)              400       \n",
      "_________________________________________________________________\n",
      "flatten_2 (Flatten)          (None, 32)                0         \n",
      "_________________________________________________________________\n",
      "dense_1 (Dense)              (None, 1)                 33        \n",
      "=================================================================\n",
      "Total params: 433\n",
      "Trainable params: 433\n",
      "Non-trainable params: 0\n",
      "_________________________________________________________________\n"
     ]
    }
   ],
   "source": [
    "#model summary\n",
    "model.summary()"
   ]
  },
  {
   "cell_type": "code",
   "execution_count": 38,
   "metadata": {},
   "outputs": [
    {
     "name": "stdout",
     "output_type": "stream",
     "text": [
      "Epoch 1/50\n",
      "10/10 [==============================] - 0s 15ms/step - loss: 0.4116 - acc: 0.9000\n",
      "Epoch 2/50\n",
      "10/10 [==============================] - 0s 200us/step - loss: 0.3937 - acc: 0.9000\n",
      "Epoch 3/50\n",
      "10/10 [==============================] - 0s 199us/step - loss: 0.3812 - acc: 1.0000\n",
      "Epoch 4/50\n",
      "10/10 [==============================] - 0s 301us/step - loss: 0.3712 - acc: 1.0000\n",
      "Epoch 5/50\n",
      "10/10 [==============================] - 0s 400us/step - loss: 0.3626 - acc: 1.0000\n",
      "Epoch 6/50\n",
      "10/10 [==============================] - 0s 200us/step - loss: 0.3551 - acc: 1.0000\n",
      "Epoch 7/50\n",
      "10/10 [==============================] - 0s 200us/step - loss: 0.3483 - acc: 1.0000\n",
      "Epoch 8/50\n",
      "10/10 [==============================] - 0s 200us/step - loss: 0.3421 - acc: 1.0000\n",
      "Epoch 9/50\n",
      "10/10 [==============================] - 0s 400us/step - loss: 0.3364 - acc: 1.0000\n",
      "Epoch 10/50\n",
      "10/10 [==============================] - 0s 200us/step - loss: 0.3310 - acc: 1.0000\n",
      "Epoch 11/50\n",
      "10/10 [==============================] - 0s 501us/step - loss: 0.3259 - acc: 1.0000\n",
      "Epoch 12/50\n",
      "10/10 [==============================] - 0s 200us/step - loss: 0.3211 - acc: 1.0000\n",
      "Epoch 13/50\n",
      "10/10 [==============================] - 0s 402us/step - loss: 0.3166 - acc: 1.0000\n",
      "Epoch 14/50\n",
      "10/10 [==============================] - 0s 299us/step - loss: 0.3123 - acc: 1.0000\n",
      "Epoch 15/50\n",
      "10/10 [==============================] - 0s 201us/step - loss: 0.3082 - acc: 1.0000\n",
      "Epoch 16/50\n",
      "10/10 [==============================] - 0s 200us/step - loss: 0.3042 - acc: 1.0000\n",
      "Epoch 17/50\n",
      "10/10 [==============================] - 0s 199us/step - loss: 0.3004 - acc: 1.0000\n",
      "Epoch 18/50\n",
      "10/10 [==============================] - 0s 200us/step - loss: 0.2968 - acc: 1.0000\n",
      "Epoch 19/50\n",
      "10/10 [==============================] - 0s 400us/step - loss: 0.2932 - acc: 1.0000\n",
      "Epoch 20/50\n",
      "10/10 [==============================] - 0s 300us/step - loss: 0.2898 - acc: 1.0000\n",
      "Epoch 21/50\n",
      "10/10 [==============================] - 0s 300us/step - loss: 0.2865 - acc: 1.0000\n",
      "Epoch 22/50\n",
      "10/10 [==============================] - 0s 200us/step - loss: 0.2833 - acc: 1.0000\n",
      "Epoch 23/50\n",
      "10/10 [==============================] - 0s 300us/step - loss: 0.2802 - acc: 1.0000\n",
      "Epoch 24/50\n",
      "10/10 [==============================] - 0s 300us/step - loss: 0.2772 - acc: 1.0000\n",
      "Epoch 25/50\n",
      "10/10 [==============================] - 0s 300us/step - loss: 0.2743 - acc: 1.0000\n",
      "Epoch 26/50\n",
      "10/10 [==============================] - 0s 200us/step - loss: 0.2715 - acc: 1.0000\n",
      "Epoch 27/50\n",
      "10/10 [==============================] - 0s 199us/step - loss: 0.2687 - acc: 1.0000\n",
      "Epoch 28/50\n",
      "10/10 [==============================] - 0s 401us/step - loss: 0.2660 - acc: 1.0000\n",
      "Epoch 29/50\n",
      "10/10 [==============================] - 0s 200us/step - loss: 0.2634 - acc: 1.0000\n",
      "Epoch 30/50\n",
      "10/10 [==============================] - 0s 301us/step - loss: 0.2608 - acc: 1.0000\n",
      "Epoch 31/50\n",
      "10/10 [==============================] - 0s 300us/step - loss: 0.2583 - acc: 1.0000\n",
      "Epoch 32/50\n",
      "10/10 [==============================] - 0s 400us/step - loss: 0.2559 - acc: 1.0000\n",
      "Epoch 33/50\n",
      "10/10 [==============================] - 0s 200us/step - loss: 0.2535 - acc: 1.0000\n",
      "Epoch 34/50\n",
      "10/10 [==============================] - 0s 200us/step - loss: 0.2511 - acc: 1.0000\n",
      "Epoch 35/50\n",
      "10/10 [==============================] - 0s 201us/step - loss: 0.2488 - acc: 1.0000\n",
      "Epoch 36/50\n",
      "10/10 [==============================] - 0s 500us/step - loss: 0.2466 - acc: 1.0000\n",
      "Epoch 37/50\n",
      "10/10 [==============================] - 0s 300us/step - loss: 0.2444 - acc: 1.0000\n",
      "Epoch 38/50\n",
      "10/10 [==============================] - 0s 201us/step - loss: 0.2422 - acc: 1.0000\n",
      "Epoch 39/50\n",
      "10/10 [==============================] - 0s 200us/step - loss: 0.2401 - acc: 1.0000\n",
      "Epoch 40/50\n",
      "10/10 [==============================] - 0s 300us/step - loss: 0.2380 - acc: 1.0000\n",
      "Epoch 41/50\n",
      "10/10 [==============================] - 0s 200us/step - loss: 0.2360 - acc: 1.0000\n",
      "Epoch 42/50\n",
      "10/10 [==============================] - 0s 300us/step - loss: 0.2340 - acc: 1.0000\n",
      "Epoch 43/50\n",
      "10/10 [==============================] - 0s 300us/step - loss: 0.2321 - acc: 1.0000\n",
      "Epoch 44/50\n",
      "10/10 [==============================] - 0s 400us/step - loss: 0.2301 - acc: 1.0000\n",
      "Epoch 45/50\n",
      "10/10 [==============================] - 0s 301us/step - loss: 0.2282 - acc: 1.0000\n",
      "Epoch 46/50\n",
      "10/10 [==============================] - 0s 400us/step - loss: 0.2264 - acc: 1.0000\n",
      "Epoch 47/50\n",
      "10/10 [==============================] - 0s 299us/step - loss: 0.2245 - acc: 1.0000\n",
      "Epoch 48/50\n",
      "10/10 [==============================] - 0s 200us/step - loss: 0.2227 - acc: 1.0000\n",
      "Epoch 49/50\n",
      "10/10 [==============================] - 0s 400us/step - loss: 0.2210 - acc: 1.0000\n",
      "Epoch 50/50\n",
      "10/10 [==============================] - 0s 300us/step - loss: 0.2192 - acc: 1.0000\n"
     ]
    },
    {
     "data": {
      "text/plain": [
       "<keras.callbacks.History at 0x17aca209898>"
      ]
     },
     "execution_count": 38,
     "metadata": {},
     "output_type": "execute_result"
    }
   ],
   "source": [
    "#fit model\n",
    "model.fit(padded_docs, labels, epochs=50, verbose=1)"
   ]
  },
  {
   "cell_type": "code",
   "execution_count": 39,
   "metadata": {},
   "outputs": [
    {
     "name": "stdout",
     "output_type": "stream",
     "text": [
      "Accuracy 100.0\n"
     ]
    }
   ],
   "source": [
    "# evaluate model\n",
    "loss, accuracy = model.evaluate(padded_docs, labels, verbose=0)\n",
    "print(\"Accuracy {}\".format(accuracy*100))"
   ]
  },
  {
   "cell_type": "code",
   "execution_count": null,
   "metadata": {
    "collapsed": true
   },
   "outputs": [],
   "source": []
  }
 ],
 "metadata": {
  "kernelspec": {
   "display_name": "Python 3",
   "language": "python",
   "name": "python3"
  },
  "language_info": {
   "codemirror_mode": {
    "name": "ipython",
    "version": 3
   },
   "file_extension": ".py",
   "mimetype": "text/x-python",
   "name": "python",
   "nbconvert_exporter": "python",
   "pygments_lexer": "ipython3",
   "version": "3.6.1"
  }
 },
 "nbformat": 4,
 "nbformat_minor": 2
}
